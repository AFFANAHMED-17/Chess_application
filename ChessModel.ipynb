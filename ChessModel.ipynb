{
 "cells": [
  {
   "cell_type": "code",
   "execution_count": 1,
   "id": "cd8dae4c-c9c6-468f-9fc2-46e1460e6476",
   "metadata": {},
   "outputs": [],
   "source": [
    "import zstandard as zstd\n",
    "\n",
    "def decompress_zst(input_file, output_file):\n",
    "    with open(input_file, 'rb') as compressed:\n",
    "        with open(output_file, 'wb') as decompressed:\n",
    "            dctx = zstd.ZstdDecompressor()\n",
    "            dctx.copy_stream(compressed, decompressed)\n",
    "\n",
    "# Decompress the PGN file\n",
    "decompress_zst('lichess_db_standard_rated_2014-07.pgn.zst', 'lichess_db_standard_rated_2014-07.pgn')\n"
   ]
  },
  {
   "cell_type": "code",
   "execution_count": 2,
   "id": "a0ba718e",
   "metadata": {},
   "outputs": [
    {
     "ename": "KeyboardInterrupt",
     "evalue": "",
     "output_type": "error",
     "traceback": [
      "\u001b[1;31m---------------------------------------------------------------------------\u001b[0m",
      "\u001b[1;31mKeyboardInterrupt\u001b[0m                         Traceback (most recent call last)",
      "\u001b[1;32m<ipython-input-2-9021a1ac0896>\u001b[0m in \u001b[0;36m<module>\u001b[1;34m\u001b[0m\n\u001b[0;32m     15\u001b[0m \u001b[1;33m\u001b[0m\u001b[0m\n\u001b[0;32m     16\u001b[0m \u001b[1;33m\u001b[0m\u001b[0m\n\u001b[1;32m---> 17\u001b[1;33m \u001b[0mdf\u001b[0m \u001b[1;33m=\u001b[0m \u001b[0mparse_pgn\u001b[0m\u001b[1;33m(\u001b[0m\u001b[1;34m'lichess_db_standard_rated_2014-07.pgn'\u001b[0m\u001b[1;33m)\u001b[0m\u001b[1;33m\u001b[0m\u001b[1;33m\u001b[0m\u001b[0m\n\u001b[0m",
      "\u001b[1;32m<ipython-input-2-9021a1ac0896>\u001b[0m in \u001b[0;36mparse_pgn\u001b[1;34m(file_path, max_games)\u001b[0m\n\u001b[0;32m     10\u001b[0m                 \u001b[1;32mbreak\u001b[0m\u001b[1;33m\u001b[0m\u001b[1;33m\u001b[0m\u001b[0m\n\u001b[0;32m     11\u001b[0m             \u001b[0mboard\u001b[0m \u001b[1;33m=\u001b[0m \u001b[0mgame\u001b[0m\u001b[1;33m.\u001b[0m\u001b[0mboard\u001b[0m\u001b[1;33m(\u001b[0m\u001b[1;33m)\u001b[0m\u001b[1;33m\u001b[0m\u001b[1;33m\u001b[0m\u001b[0m\n\u001b[1;32m---> 12\u001b[1;33m             \u001b[0mgame_moves\u001b[0m \u001b[1;33m=\u001b[0m \u001b[1;33m[\u001b[0m\u001b[1;33m(\u001b[0m\u001b[0mboard\u001b[0m\u001b[1;33m.\u001b[0m\u001b[0mfen\u001b[0m\u001b[1;33m(\u001b[0m\u001b[1;33m)\u001b[0m\u001b[1;33m,\u001b[0m \u001b[0mmove\u001b[0m\u001b[1;33m.\u001b[0m\u001b[0muci\u001b[0m\u001b[1;33m(\u001b[0m\u001b[1;33m)\u001b[0m\u001b[1;33m)\u001b[0m \u001b[1;32mfor\u001b[0m \u001b[0mmove\u001b[0m \u001b[1;32min\u001b[0m \u001b[0mgame\u001b[0m\u001b[1;33m.\u001b[0m\u001b[0mmainline_moves\u001b[0m\u001b[1;33m(\u001b[0m\u001b[1;33m)\u001b[0m\u001b[1;33m]\u001b[0m\u001b[1;33m\u001b[0m\u001b[1;33m\u001b[0m\u001b[0m\n\u001b[0m\u001b[0;32m     13\u001b[0m             \u001b[0mgames\u001b[0m\u001b[1;33m.\u001b[0m\u001b[0mextend\u001b[0m\u001b[1;33m(\u001b[0m\u001b[0mgame_moves\u001b[0m\u001b[1;33m)\u001b[0m  \u001b[1;31m# Append moves in bulk for each game\u001b[0m\u001b[1;33m\u001b[0m\u001b[1;33m\u001b[0m\u001b[0m\n\u001b[0;32m     14\u001b[0m     \u001b[1;32mreturn\u001b[0m \u001b[0mpd\u001b[0m\u001b[1;33m.\u001b[0m\u001b[0mDataFrame\u001b[0m\u001b[1;33m(\u001b[0m\u001b[0mgames\u001b[0m\u001b[1;33m,\u001b[0m \u001b[0mcolumns\u001b[0m\u001b[1;33m=\u001b[0m\u001b[1;33m[\u001b[0m\u001b[1;34m'fen'\u001b[0m\u001b[1;33m,\u001b[0m \u001b[1;34m'move'\u001b[0m\u001b[1;33m]\u001b[0m\u001b[1;33m)\u001b[0m\u001b[1;33m\u001b[0m\u001b[1;33m\u001b[0m\u001b[0m\n",
      "\u001b[1;32m<ipython-input-2-9021a1ac0896>\u001b[0m in \u001b[0;36m<listcomp>\u001b[1;34m(.0)\u001b[0m\n\u001b[0;32m     10\u001b[0m                 \u001b[1;32mbreak\u001b[0m\u001b[1;33m\u001b[0m\u001b[1;33m\u001b[0m\u001b[0m\n\u001b[0;32m     11\u001b[0m             \u001b[0mboard\u001b[0m \u001b[1;33m=\u001b[0m \u001b[0mgame\u001b[0m\u001b[1;33m.\u001b[0m\u001b[0mboard\u001b[0m\u001b[1;33m(\u001b[0m\u001b[1;33m)\u001b[0m\u001b[1;33m\u001b[0m\u001b[1;33m\u001b[0m\u001b[0m\n\u001b[1;32m---> 12\u001b[1;33m             \u001b[0mgame_moves\u001b[0m \u001b[1;33m=\u001b[0m \u001b[1;33m[\u001b[0m\u001b[1;33m(\u001b[0m\u001b[0mboard\u001b[0m\u001b[1;33m.\u001b[0m\u001b[0mfen\u001b[0m\u001b[1;33m(\u001b[0m\u001b[1;33m)\u001b[0m\u001b[1;33m,\u001b[0m \u001b[0mmove\u001b[0m\u001b[1;33m.\u001b[0m\u001b[0muci\u001b[0m\u001b[1;33m(\u001b[0m\u001b[1;33m)\u001b[0m\u001b[1;33m)\u001b[0m \u001b[1;32mfor\u001b[0m \u001b[0mmove\u001b[0m \u001b[1;32min\u001b[0m \u001b[0mgame\u001b[0m\u001b[1;33m.\u001b[0m\u001b[0mmainline_moves\u001b[0m\u001b[1;33m(\u001b[0m\u001b[1;33m)\u001b[0m\u001b[1;33m]\u001b[0m\u001b[1;33m\u001b[0m\u001b[1;33m\u001b[0m\u001b[0m\n\u001b[0m\u001b[0;32m     13\u001b[0m             \u001b[0mgames\u001b[0m\u001b[1;33m.\u001b[0m\u001b[0mextend\u001b[0m\u001b[1;33m(\u001b[0m\u001b[0mgame_moves\u001b[0m\u001b[1;33m)\u001b[0m  \u001b[1;31m# Append moves in bulk for each game\u001b[0m\u001b[1;33m\u001b[0m\u001b[1;33m\u001b[0m\u001b[0m\n\u001b[0;32m     14\u001b[0m     \u001b[1;32mreturn\u001b[0m \u001b[0mpd\u001b[0m\u001b[1;33m.\u001b[0m\u001b[0mDataFrame\u001b[0m\u001b[1;33m(\u001b[0m\u001b[0mgames\u001b[0m\u001b[1;33m,\u001b[0m \u001b[0mcolumns\u001b[0m\u001b[1;33m=\u001b[0m\u001b[1;33m[\u001b[0m\u001b[1;34m'fen'\u001b[0m\u001b[1;33m,\u001b[0m \u001b[1;34m'move'\u001b[0m\u001b[1;33m]\u001b[0m\u001b[1;33m)\u001b[0m\u001b[1;33m\u001b[0m\u001b[1;33m\u001b[0m\u001b[0m\n",
      "\u001b[1;32md:\\anaconda\\envs\\affan\\lib\\site-packages\\chess\\__init__.py\u001b[0m in \u001b[0;36mfen\u001b[1;34m(self, shredder, en_passant, promoted)\u001b[0m\n\u001b[0;32m   2207\u001b[0m         \"\"\"\n\u001b[0;32m   2208\u001b[0m         return \" \".join([\n\u001b[1;32m-> 2209\u001b[1;33m             \u001b[0mself\u001b[0m\u001b[1;33m.\u001b[0m\u001b[0mepd\u001b[0m\u001b[1;33m(\u001b[0m\u001b[0mshredder\u001b[0m\u001b[1;33m=\u001b[0m\u001b[0mshredder\u001b[0m\u001b[1;33m,\u001b[0m \u001b[0men_passant\u001b[0m\u001b[1;33m=\u001b[0m\u001b[0men_passant\u001b[0m\u001b[1;33m,\u001b[0m \u001b[0mpromoted\u001b[0m\u001b[1;33m=\u001b[0m\u001b[0mpromoted\u001b[0m\u001b[1;33m)\u001b[0m\u001b[1;33m,\u001b[0m\u001b[1;33m\u001b[0m\u001b[1;33m\u001b[0m\u001b[0m\n\u001b[0m\u001b[0;32m   2210\u001b[0m             \u001b[0mstr\u001b[0m\u001b[1;33m(\u001b[0m\u001b[0mself\u001b[0m\u001b[1;33m.\u001b[0m\u001b[0mhalfmove_clock\u001b[0m\u001b[1;33m)\u001b[0m\u001b[1;33m,\u001b[0m\u001b[1;33m\u001b[0m\u001b[1;33m\u001b[0m\u001b[0m\n\u001b[0;32m   2211\u001b[0m             \u001b[0mstr\u001b[0m\u001b[1;33m(\u001b[0m\u001b[0mself\u001b[0m\u001b[1;33m.\u001b[0m\u001b[0mfullmove_number\u001b[0m\u001b[1;33m)\u001b[0m\u001b[1;33m\u001b[0m\u001b[1;33m\u001b[0m\u001b[0m\n",
      "\u001b[1;32md:\\anaconda\\envs\\affan\\lib\\site-packages\\chess\\__init__.py\u001b[0m in \u001b[0;36mepd\u001b[1;34m(self, shredder, en_passant, promoted, **operations)\u001b[0m\n\u001b[0;32m   2476\u001b[0m             \u001b[0mep_square\u001b[0m \u001b[1;33m=\u001b[0m \u001b[0mself\u001b[0m\u001b[1;33m.\u001b[0m\u001b[0mep_square\u001b[0m \u001b[1;32mif\u001b[0m \u001b[0mself\u001b[0m\u001b[1;33m.\u001b[0m\u001b[0mhas_legal_en_passant\u001b[0m\u001b[1;33m(\u001b[0m\u001b[1;33m)\u001b[0m \u001b[1;32melse\u001b[0m \u001b[1;32mNone\u001b[0m\u001b[1;33m\u001b[0m\u001b[1;33m\u001b[0m\u001b[0m\n\u001b[0;32m   2477\u001b[0m \u001b[1;33m\u001b[0m\u001b[0m\n\u001b[1;32m-> 2478\u001b[1;33m         epd = [self.board_fen(promoted=promoted),\n\u001b[0m\u001b[0;32m   2479\u001b[0m                \u001b[1;34m\"w\"\u001b[0m \u001b[1;32mif\u001b[0m \u001b[0mself\u001b[0m\u001b[1;33m.\u001b[0m\u001b[0mturn\u001b[0m \u001b[1;33m==\u001b[0m \u001b[0mWHITE\u001b[0m \u001b[1;32melse\u001b[0m \u001b[1;34m\"b\"\u001b[0m\u001b[1;33m,\u001b[0m\u001b[1;33m\u001b[0m\u001b[1;33m\u001b[0m\u001b[0m\n\u001b[0;32m   2480\u001b[0m                \u001b[0mself\u001b[0m\u001b[1;33m.\u001b[0m\u001b[0mcastling_shredder_fen\u001b[0m\u001b[1;33m(\u001b[0m\u001b[1;33m)\u001b[0m \u001b[1;32mif\u001b[0m \u001b[0mshredder\u001b[0m \u001b[1;32melse\u001b[0m \u001b[0mself\u001b[0m\u001b[1;33m.\u001b[0m\u001b[0mcastling_xfen\u001b[0m\u001b[1;33m(\u001b[0m\u001b[1;33m)\u001b[0m\u001b[1;33m,\u001b[0m\u001b[1;33m\u001b[0m\u001b[1;33m\u001b[0m\u001b[0m\n",
      "\u001b[1;32md:\\anaconda\\envs\\affan\\lib\\site-packages\\chess\\__init__.py\u001b[0m in \u001b[0;36mboard_fen\u001b[1;34m(self, promoted)\u001b[0m\n\u001b[0;32m    881\u001b[0m                     \u001b[0mbuilder\u001b[0m\u001b[1;33m.\u001b[0m\u001b[0mappend\u001b[0m\u001b[1;33m(\u001b[0m\u001b[0mstr\u001b[0m\u001b[1;33m(\u001b[0m\u001b[0mempty\u001b[0m\u001b[1;33m)\u001b[0m\u001b[1;33m)\u001b[0m\u001b[1;33m\u001b[0m\u001b[1;33m\u001b[0m\u001b[0m\n\u001b[0;32m    882\u001b[0m                     \u001b[0mempty\u001b[0m \u001b[1;33m=\u001b[0m \u001b[1;36m0\u001b[0m\u001b[1;33m\u001b[0m\u001b[1;33m\u001b[0m\u001b[0m\n\u001b[1;32m--> 883\u001b[1;33m                 \u001b[0mbuilder\u001b[0m\u001b[1;33m.\u001b[0m\u001b[0mappend\u001b[0m\u001b[1;33m(\u001b[0m\u001b[0mpiece\u001b[0m\u001b[1;33m.\u001b[0m\u001b[0msymbol\u001b[0m\u001b[1;33m(\u001b[0m\u001b[1;33m)\u001b[0m\u001b[1;33m)\u001b[0m\u001b[1;33m\u001b[0m\u001b[1;33m\u001b[0m\u001b[0m\n\u001b[0m\u001b[0;32m    884\u001b[0m                 \u001b[1;32mif\u001b[0m \u001b[0mpromoted\u001b[0m \u001b[1;32mand\u001b[0m \u001b[0mBB_SQUARES\u001b[0m\u001b[1;33m[\u001b[0m\u001b[0msquare\u001b[0m\u001b[1;33m]\u001b[0m \u001b[1;33m&\u001b[0m \u001b[0mself\u001b[0m\u001b[1;33m.\u001b[0m\u001b[0mpromoted\u001b[0m\u001b[1;33m:\u001b[0m\u001b[1;33m\u001b[0m\u001b[1;33m\u001b[0m\u001b[0m\n\u001b[0;32m    885\u001b[0m                     \u001b[0mbuilder\u001b[0m\u001b[1;33m.\u001b[0m\u001b[0mappend\u001b[0m\u001b[1;33m(\u001b[0m\u001b[1;34m\"~\"\u001b[0m\u001b[1;33m)\u001b[0m\u001b[1;33m\u001b[0m\u001b[1;33m\u001b[0m\u001b[0m\n",
      "\u001b[1;32md:\\anaconda\\envs\\affan\\lib\\site-packages\\chess\\__init__.py\u001b[0m in \u001b[0;36msymbol\u001b[1;34m(self)\u001b[0m\n\u001b[0;32m    397\u001b[0m         \u001b[0mpieces\u001b[0m \u001b[1;32mor\u001b[0m \u001b[0mthe\u001b[0m \u001b[0mlower\u001b[0m\u001b[1;33m-\u001b[0m\u001b[0mcase\u001b[0m \u001b[0mvariants\u001b[0m \u001b[1;32mfor\u001b[0m \u001b[0mthe\u001b[0m \u001b[0mblack\u001b[0m \u001b[0mpieces\u001b[0m\u001b[1;33m.\u001b[0m\u001b[1;33m\u001b[0m\u001b[1;33m\u001b[0m\u001b[0m\n\u001b[0;32m    398\u001b[0m         \"\"\"\n\u001b[1;32m--> 399\u001b[1;33m         \u001b[0msymbol\u001b[0m \u001b[1;33m=\u001b[0m \u001b[0mpiece_symbol\u001b[0m\u001b[1;33m(\u001b[0m\u001b[0mself\u001b[0m\u001b[1;33m.\u001b[0m\u001b[0mpiece_type\u001b[0m\u001b[1;33m)\u001b[0m\u001b[1;33m\u001b[0m\u001b[1;33m\u001b[0m\u001b[0m\n\u001b[0m\u001b[0;32m    400\u001b[0m         \u001b[1;32mreturn\u001b[0m \u001b[0msymbol\u001b[0m\u001b[1;33m.\u001b[0m\u001b[0mupper\u001b[0m\u001b[1;33m(\u001b[0m\u001b[1;33m)\u001b[0m \u001b[1;32mif\u001b[0m \u001b[0mself\u001b[0m\u001b[1;33m.\u001b[0m\u001b[0mcolor\u001b[0m \u001b[1;32melse\u001b[0m \u001b[0msymbol\u001b[0m\u001b[1;33m\u001b[0m\u001b[1;33m\u001b[0m\u001b[0m\n\u001b[0;32m    401\u001b[0m \u001b[1;33m\u001b[0m\u001b[0m\n",
      "\u001b[1;31mKeyboardInterrupt\u001b[0m: "
     ]
    }
   ],
   "source": [
    "import chess\n",
    "import chess.pgn\n",
    "import pandas as pd\n",
    "\n",
    "def parse_pgn(file_path, max_games=None):\n",
    "    games = []\n",
    "    with open(file_path) as f:\n",
    "        for idx, game in enumerate(iter(lambda: chess.pgn.read_game(f), None)):\n",
    "            if max_games and idx >= max_games:\n",
    "                break  \n",
    "            board = game.board()\n",
    "            game_moves = [(board.fen(), move.uci()) for move in game.mainline_moves()]\n",
    "            games.extend(game_moves)  # Append moves in bulk for each game\n",
    "    return pd.DataFrame(games, columns=['fen', 'move'])\n",
    "\n",
    "\n",
    "df = parse_pgn('lichess_db_standard_rated_2014-07.pgn')\n"
   ]
  },
  {
   "cell_type": "code",
   "execution_count": 2,
   "id": "296612c4",
   "metadata": {},
   "outputs": [],
   "source": [
    "from sklearn.preprocessing import LabelEncoder\n",
    "import numpy as np\n",
    "\n",
    "# Encode the moves\n",
    "le = LabelEncoder()\n",
    "df['move'] = le.fit_transform(df['move'])\n",
    "\n",
    "# Convert FEN to a numerical representation\n",
    "def fen_to_input(fen):\n",
    "    board = chess.Board(fen)\n",
    "    input_vector = np.zeros((8, 8, 12))  # 12 for each piece type\n",
    "    piece_map = {\n",
    "        'P': 0, 'N': 1, 'B': 2, 'R': 3, 'Q': 4, 'K': 5,\n",
    "        'p': 6, 'n': 7, 'b': 8, 'r': 9, 'q': 10, 'k': 11\n",
    "    }\n",
    "    for square, piece in board.piece_map().items():\n",
    "        x, y = divmod(square, 8)\n",
    "        input_vector[x, y, piece_map[piece.symbol()]] = 1\n",
    "    return input_vector.flatten()\n",
    "\n",
    "# Prepare inputs and targets\n",
    "X = np.array([fen_to_input(fen) for fen in df['fen']])\n",
    "y = df['move'].values\n"
   ]
  },
  {
   "cell_type": "code",
   "execution_count": 3,
   "id": "0747be48",
   "metadata": {},
   "outputs": [],
   "source": [
    "from sklearn.model_selection import train_test_split\n",
    "\n",
    "X_train, X_test, y_train, y_test = train_test_split(X, y, test_size=0.2, random_state=42)\n"
   ]
  },
  {
   "cell_type": "code",
   "execution_count": 4,
   "id": "c304eeba",
   "metadata": {},
   "outputs": [],
   "source": [
    "import tensorflow as tf\n",
    "\n",
    "model = tf.keras.Sequential([\n",
    "    tf.keras.layers.Dense(512, activation='relu', input_shape=(X_train.shape[1],)),\n",
    "    tf.keras.layers.Dense(256, activation='relu'),\n",
    "    tf.keras.layers.Dense(len(le.classes_), activation='softmax')  # Output layer for each possible move\n",
    "])\n",
    "\n",
    "model.compile(optimizer='adam', loss='sparse_categorical_crossentropy', metrics=['accuracy'])\n"
   ]
  },
  {
   "cell_type": "code",
   "execution_count": 5,
   "id": "a75e239e",
   "metadata": {},
   "outputs": [
    {
     "name": "stdout",
     "output_type": "stream",
     "text": [
      "Epoch 1/10\n",
      "1473/1473 [==============================] - 7s 3ms/step - loss: 6.6847 - accuracy: 0.0117 - val_loss: 6.6539 - val_accuracy: 0.0101\n",
      "Epoch 2/10\n",
      "1473/1473 [==============================] - 5s 3ms/step - loss: 6.6091 - accuracy: 0.0119 - val_loss: 6.6455 - val_accuracy: 0.0122\n",
      "Epoch 3/10\n",
      "1473/1473 [==============================] - 4s 3ms/step - loss: 6.6047 - accuracy: 0.0116 - val_loss: 6.6428 - val_accuracy: 0.0101\n",
      "Epoch 4/10\n",
      "1473/1473 [==============================] - 4s 3ms/step - loss: 6.6022 - accuracy: 0.0119 - val_loss: 6.6474 - val_accuracy: 0.0101\n",
      "Epoch 5/10\n",
      "1473/1473 [==============================] - 4s 3ms/step - loss: 6.5994 - accuracy: 0.0118 - val_loss: 6.6487 - val_accuracy: 0.0101\n",
      "Epoch 6/10\n",
      "1473/1473 [==============================] - 5s 3ms/step - loss: 6.5986 - accuracy: 0.0112 - val_loss: 6.6499 - val_accuracy: 0.0122\n",
      "Epoch 7/10\n",
      "1473/1473 [==============================] - 4s 3ms/step - loss: 6.5965 - accuracy: 0.0121 - val_loss: 6.6499 - val_accuracy: 0.0122\n",
      "Epoch 8/10\n",
      "1473/1473 [==============================] - 4s 3ms/step - loss: 6.5949 - accuracy: 0.0114 - val_loss: 6.6502 - val_accuracy: 0.0122\n",
      "Epoch 9/10\n",
      "1473/1473 [==============================] - 5s 3ms/step - loss: 6.5944 - accuracy: 0.0118 - val_loss: 6.6538 - val_accuracy: 0.0101\n",
      "Epoch 10/10\n",
      "1473/1473 [==============================] - 5s 3ms/step - loss: 6.5933 - accuracy: 0.0116 - val_loss: 6.6559 - val_accuracy: 0.0122\n"
     ]
    },
    {
     "data": {
      "text/plain": [
       "<keras.callbacks.History at 0x2d8e3a92fd0>"
      ]
     },
     "execution_count": 5,
     "metadata": {},
     "output_type": "execute_result"
    }
   ],
   "source": [
    "model.fit(X_train, y_train, epochs=10, batch_size=32, validation_split=0.1)\n"
   ]
  },
  {
   "cell_type": "code",
   "execution_count": 6,
   "id": "34fab2cc",
   "metadata": {},
   "outputs": [
    {
     "name": "stdout",
     "output_type": "stream",
     "text": [
      "410/410 [==============================] - 1s 3ms/step - loss: 6.6226 - accuracy: 0.0112\n",
      "Test Accuracy: 0.0112\n"
     ]
    }
   ],
   "source": [
    "test_loss, test_accuracy = model.evaluate(X_test, y_test)\n",
    "print(f'Test Accuracy: {test_accuracy:.4f}')\n"
   ]
  },
  {
   "cell_type": "code",
   "execution_count": 7,
   "id": "bf9daa1e",
   "metadata": {},
   "outputs": [],
   "source": [
    "model.save('chess_model.h5')\n"
   ]
  },
  {
   "cell_type": "code",
   "execution_count": 9,
   "id": "d6a8016c",
   "metadata": {},
   "outputs": [
    {
     "name": "stdout",
     "output_type": "stream",
     "text": [
      "Predicted Move: g1f3\n"
     ]
    }
   ],
   "source": [
    "def predict_move(fen):\n",
    "    input_data = fen_to_input(fen)\n",
    "    prediction = model.predict(np.array([input_data]))\n",
    "    predicted_move = le.inverse_transform(np.argmax(prediction, axis=1))\n",
    "    return predicted_move[0]\n",
    "\n",
    "# Example of predicting a move\n",
    "fen_example = \"rnbqkbnr/pppppppp/8/8/8/8/PPPPPPPP/RNBQKBNR w KQkq - 0 1\"\n",
    "predicted_move = predict_move(fen_example)\n",
    "print(f'Predicted Move: {predicted_move}')\n"
   ]
  },
  {
   "cell_type": "code",
   "execution_count": null,
   "id": "bd152c75",
   "metadata": {},
   "outputs": [],
   "source": []
  },
  {
   "cell_type": "code",
   "execution_count": null,
   "id": "52141573",
   "metadata": {},
   "outputs": [],
   "source": []
  }
 ],
 "metadata": {
  "kernelspec": {
   "display_name": "affan",
   "language": "python",
   "name": "python3"
  },
  "language_info": {
   "codemirror_mode": {
    "name": "ipython",
    "version": 3
   },
   "file_extension": ".py",
   "mimetype": "text/x-python",
   "name": "python",
   "nbconvert_exporter": "python",
   "pygments_lexer": "ipython3",
   "version": "3.6.13"
  }
 },
 "nbformat": 4,
 "nbformat_minor": 5
}
